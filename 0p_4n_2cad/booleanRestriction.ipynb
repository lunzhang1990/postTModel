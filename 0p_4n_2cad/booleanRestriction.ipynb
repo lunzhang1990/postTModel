{
 "cells": [
  {
   "cell_type": "code",
   "execution_count": 20,
   "metadata": {},
   "outputs": [],
   "source": [
    "from itertools import permutations\n",
    "import json"
   ]
  },
  {
   "cell_type": "code",
   "execution_count": 26,
   "metadata": {},
   "outputs": [],
   "source": [
    "def generateBooleanRestrictions(nplogic):\n",
    "    \"\"\"nplogic: the negative and positive logic from left to right edges\"\"\"\n",
    "    noedges = len(nplogic)\n",
    "    nopolys = 2**noedges\n",
    "    \n",
    "    poset = set()\n",
    "    \n",
    "    for i in range(nopolys):\n",
    "        for j in range(nopolys):\n",
    "            if i!=j  and isBigger(i,j,nplogic):\n",
    "                poset.add((i,j))\n",
    "                \n",
    "    return poset\n",
    "        \n",
    "def isBigger(s,b,nplogic):\n",
    "    \n",
    "    noedges = len(nplogic)\n",
    "    sb = format(s, '0{}b'.format(noedges))\n",
    "    bb = format(b, '0{}b'.format(noedges))\n",
    "    \n",
    "    for i in range(noedges):\n",
    "        if sb[i] == bb[i]:\n",
    "            continue\n",
    "        if sb[i] == '1' and bb[i]=='0' and nplogic[i] < 0:\n",
    "            continue\n",
    "            \n",
    "        return False\n",
    "    \n",
    "    return True  \n",
    "\n",
    "def isConsistent(order,filterSet):\n",
    "    for i,j in filterSet:\n",
    "        if order.index(i) > order.index(j):\n",
    "            return False\n",
    "    return True\n",
    "\n",
    "def booleanFilter(nplogic):\n",
    "    \"\"\"not realistic for 4 cases as there are too many terms, the trie algorithm should be used for 4 cases\"\"\"\n",
    "    noedges = len(nplogic)\n",
    "    nopolys = 2**noedges\n",
    "    perms = permutations([i for i in range(nopolys)])\n",
    "    \n",
    "    filterSet = generateBooleanRestrictions(nplogic)\n",
    "    ret = []\n",
    "    for order in perms:\n",
    "        if isConsistent(order,filterSet):\n",
    "            ret.append(order)\n",
    "            \n",
    "    return ret"
   ]
  },
  {
   "cell_type": "code",
   "execution_count": 27,
   "metadata": {},
   "outputs": [
    {
     "data": {
      "text/plain": [
       "280"
      ]
     },
     "execution_count": 27,
     "metadata": {},
     "output_type": "execute_result"
    }
   ],
   "source": [
    "nplogic = [-1,-1,1]\n",
    "ret = booleanFilter(nplogic)\n",
    "len(ret)"
   ]
  },
  {
   "cell_type": "code",
   "execution_count": 38,
   "metadata": {},
   "outputs": [],
   "source": [
    "# add the 0 zero polys\n",
    "def insertZeroPoly(order):\n",
    "    ret = []\n",
    "    for i in range(len(order)+1):\n",
    "        temp = list(order).copy()\n",
    "        temp[i:i] = [len(temp)]\n",
    "        ret.append(temp)\n",
    "    return ret"
   ]
  },
  {
   "cell_type": "code",
   "execution_count": 39,
   "metadata": {},
   "outputs": [
    {
     "data": {
      "text/plain": [
       "2520"
      ]
     },
     "execution_count": 39,
     "metadata": {},
     "output_type": "execute_result"
    }
   ],
   "source": [
    "zeroret = []\n",
    "for order in ret:\n",
    "    temp = insertZeroPoly(order)\n",
    "    zeroret+=temp\n",
    "len(zeroret)"
   ]
  },
  {
   "cell_type": "code",
   "execution_count": 40,
   "metadata": {},
   "outputs": [],
   "source": [
    "with open(\"0p_4n_2_br.json\",'w') as file:\n",
    "    json.dump(zeroret,file)"
   ]
  },
  {
   "cell_type": "code",
   "execution_count": 29,
   "metadata": {},
   "outputs": [
    {
     "data": {
      "text/plain": [
       "{(2, 0),\n",
       " (3, 1),\n",
       " (4, 0),\n",
       " (5, 1),\n",
       " (6, 0),\n",
       " (6, 2),\n",
       " (6, 4),\n",
       " (7, 1),\n",
       " (7, 3),\n",
       " (7, 5)}"
      ]
     },
     "execution_count": 29,
     "metadata": {},
     "output_type": "execute_result"
    }
   ],
   "source": [
    "generateBooleanRestrictions(nplogic)"
   ]
  },
  {
   "cell_type": "code",
   "execution_count": 41,
   "metadata": {},
   "outputs": [
    {
     "data": {
      "text/plain": [
       "[8, 6, 2, 4, 0, 7, 3, 5, 1]"
      ]
     },
     "execution_count": 41,
     "metadata": {},
     "output_type": "execute_result"
    }
   ],
   "source": [
    "zeroret[0]"
   ]
  },
  {
   "cell_type": "code",
   "execution_count": null,
   "metadata": {},
   "outputs": [],
   "source": []
  }
 ],
 "metadata": {
  "kernelspec": {
   "display_name": "Python (tensorflow)",
   "language": "python",
   "name": "myenv"
  },
  "language_info": {
   "codemirror_mode": {
    "name": "ipython",
    "version": 3
   },
   "file_extension": ".py",
   "mimetype": "text/x-python",
   "name": "python",
   "nbconvert_exporter": "python",
   "pygments_lexer": "ipython3",
   "version": "3.6.7"
  }
 },
 "nbformat": 4,
 "nbformat_minor": 2
}
