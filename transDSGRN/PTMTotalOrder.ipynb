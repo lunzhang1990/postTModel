{
 "cells": [
  {
   "cell_type": "markdown",
   "metadata": {},
   "source": [
    "The orders of index is from left to right i.e. first for transcriptional edges then regular edges"
   ]
  },
  {
   "cell_type": "markdown",
   "metadata": {},
   "source": [
    "# Generate 2p2.txt"
   ]
  },
  {
   "cell_type": "code",
   "execution_count": 5,
   "metadata": {},
   "outputs": [],
   "source": [
    "def flipFirst(x,digits):\n",
    "    binary = bin(x)[2:].zfill(digits)\n",
    "    #print(binary)\n",
    "    if binary[0] == '1':\n",
    "        firstDigit = '0'\n",
    "    else:\n",
    "        firstDigit = '1'\n",
    "    return int(firstDigit+binary[1:],2)"
   ]
  },
  {
   "cell_type": "code",
   "execution_count": 7,
   "metadata": {},
   "outputs": [],
   "source": [
    "orders = []\n",
    "ret = []\n",
    "with open('dsgrndb/2_2_final.dat','r') as file:\n",
    "    line = file.readline()\n",
    "    while line:\n",
    "        temp  =  tuple(map(lambda x: int(x), line.strip().split(' ')))\n",
    "        temp  = tuple(map(lambda x: flipFirst(x,2), temp))\n",
    "        orders.append(temp)\n",
    "        ret.append(line)\n",
    "        line = file.readline()"
   ]
  },
  {
   "cell_type": "code",
   "execution_count": 9,
   "metadata": {},
   "outputs": [],
   "source": [
    "with open('ptmdb/2p_0n_2.dat','w') as file:\n",
    "    for i in range(len(orders)):\n",
    "        line = ' '.join(list(map(lambda x: str(x), orders[i])))+'\\n'\n",
    "        file.write(line)"
   ]
  },
  {
   "cell_type": "markdown",
   "metadata": {},
   "source": [
    "# Generate 2p2_2.txt"
   ]
  },
  {
   "cell_type": "code",
   "execution_count": 32,
   "metadata": {},
   "outputs": [
    {
     "name": "stdout",
     "output_type": "stream",
     "text": [
      "12\n"
     ]
    }
   ],
   "source": [
    "orders = []\n",
    "ret = []\n",
    "with open('dsgrndb/2_2_2_final.dat','r') as file:\n",
    "    line = file.readline()\n",
    "    while line:\n",
    "        temp  =  tuple(map(lambda x: int(x), line.strip().split(' ')))\n",
    "        temp  = tuple(map(lambda x: flipFirst(x,3), temp))\n",
    "        orders.append(temp)\n",
    "        ret.append(line)\n",
    "        line = file.readline()\n",
    "        \n",
    "print(len(orders))\n",
    "\n",
    "with open('ptmdb/2p_0n_2_2.dat','w') as file:\n",
    "    for i in range(len(orders)):\n",
    "        line = ' '.join(list(map(lambda x: str(x), orders[i])))+'\\n'\n",
    "        file.write(line)"
   ]
  },
  {
   "cell_type": "code",
   "execution_count": 33,
   "metadata": {},
   "outputs": [
    {
     "data": {
      "text/plain": [
       "[(4, 5, 6, 7, 0, 1, 2, 3),\n",
       " (4, 5, 6, 0, 7, 1, 2, 3),\n",
       " (4, 5, 0, 6, 1, 7, 2, 3),\n",
       " (4, 5, 0, 1, 6, 7, 2, 3),\n",
       " (4, 6, 5, 7, 0, 2, 1, 3),\n",
       " (4, 6, 5, 0, 7, 2, 1, 3),\n",
       " (4, 6, 0, 5, 2, 7, 1, 3),\n",
       " (4, 6, 0, 2, 5, 7, 1, 3),\n",
       " (4, 0, 5, 6, 1, 2, 7, 3),\n",
       " (4, 0, 5, 1, 6, 2, 7, 3),\n",
       " (4, 0, 6, 5, 2, 1, 7, 3),\n",
       " (4, 0, 6, 2, 5, 1, 7, 3)]"
      ]
     },
     "execution_count": 33,
     "metadata": {},
     "output_type": "execute_result"
    }
   ],
   "source": [
    "orders"
   ]
  },
  {
   "cell_type": "markdown",
   "metadata": {},
   "source": [
    "# Generate 2p2_2_2.txt"
   ]
  },
  {
   "cell_type": "code",
   "execution_count": 10,
   "metadata": {},
   "outputs": [],
   "source": [
    "orders = []\n",
    "ret = []\n",
    "with open('dsgrndb//2_2_2_2_final.dat','r') as file:\n",
    "    line = file.readline()\n",
    "    while line:\n",
    "        temp  =  tuple(map(lambda x: int(x), line.strip().split(' ')))\n",
    "        temp  = tuple(map(lambda x: flipFirst(x,4), temp))\n",
    "        orders.append(temp)\n",
    "        ret.append(line)\n",
    "        line = file.readline()"
   ]
  },
  {
   "cell_type": "code",
   "execution_count": 11,
   "metadata": {},
   "outputs": [
    {
     "data": {
      "text/plain": [
       "336"
      ]
     },
     "execution_count": 11,
     "metadata": {},
     "output_type": "execute_result"
    }
   ],
   "source": [
    "len(orders)"
   ]
  },
  {
   "cell_type": "code",
   "execution_count": 12,
   "metadata": {},
   "outputs": [],
   "source": [
    "with open('ptmdb/2p_0n_2_2_2.dat','w') as file:\n",
    "    for i in range(len(orders)):\n",
    "        line = ' '.join(list(map(lambda x: str(x), orders[i])))+'\\n'\n",
    "        file.write(line)"
   ]
  },
  {
   "cell_type": "markdown",
   "metadata": {},
   "source": [
    "# Generate 4p2_2.txt"
   ]
  },
  {
   "cell_type": "code",
   "execution_count": 44,
   "metadata": {},
   "outputs": [],
   "source": [
    "# only for (x+y)zw type\n",
    "def generateNewOrder(order):\n",
    "    order = orders[0]\n",
    "    newOrder = set()\n",
    "    for i in range(len(order)):\n",
    "        for j in range(i+1,len(order)):\n",
    "            smaller = bin(order[i])[2:].zfill(4)\n",
    "            bigger = bin(order[j])[2:].zfill(4)\n",
    "            newSmaller = bigger[:2] + smaller[2:]\n",
    "            newBigger = smaller[:2] + bigger[2:]\n",
    "            newOrder.add((int(newSmaller,2),int(newBigger,2)))\n",
    "\n",
    "    d = dict()\n",
    "    for i in range(len(order)):\n",
    "        noBigger = 0\n",
    "        for j in range(len(order)):\n",
    "            if (i,j) in newOrder:\n",
    "                noBigger+=1\n",
    "        d[i] = noBigger\n",
    "\n",
    "    ret = list(range(len(order)))\n",
    "    ret =sorted(ret, key = lambda x: -d[x])\n",
    "    \n",
    "    return ret"
   ]
  },
  {
   "cell_type": "code",
   "execution_count": 45,
   "metadata": {},
   "outputs": [
    {
     "name": "stdout",
     "output_type": "stream",
     "text": [
      "1344\n"
     ]
    }
   ],
   "source": [
    "orders = []\n",
    "with open('dsgrndb//4_2_2_final.dat','r') as file:\n",
    "    line = file.readline()\n",
    "    while line:\n",
    "        temp  =  tuple(map(lambda x: int(x), line.strip().split(' ')))\n",
    "        orders.append(temp)\n",
    "        line = file.readline()\n",
    "print(len(orders))"
   ]
  },
  {
   "cell_type": "code",
   "execution_count": 46,
   "metadata": {},
   "outputs": [],
   "source": [
    "ret = []\n",
    "for i in range(len(orders)):\n",
    "    tempOrder = generateNewOrder(orders[i])\n",
    "    ret.append(tempOrder)"
   ]
  },
  {
   "cell_type": "code",
   "execution_count": 47,
   "metadata": {},
   "outputs": [],
   "source": [
    "with open('ptmdb/4p_0n_2_2.dat','w') as file:\n",
    "    for i in range(len(ret)):\n",
    "        line = ' '.join(list(map(lambda x: str(x), ret[i])))+'\\n'\n",
    "        file.write(line)"
   ]
  },
  {
   "cell_type": "markdown",
   "metadata": {},
   "source": [
    "# Generate 8p2.txt"
   ]
  },
  {
   "cell_type": "code",
   "execution_count": 22,
   "metadata": {},
   "outputs": [],
   "source": [
    "# only for (x+y)zw type\n",
    "def flipLast(order):\n",
    "    ret = []\n",
    "    for i in range(len(order)):\n",
    "        cur = order[i]\n",
    "        ret.append(cur^1)\n",
    "    return ret"
   ]
  },
  {
   "cell_type": "code",
   "execution_count": 23,
   "metadata": {},
   "outputs": [
    {
     "name": "stdout",
     "output_type": "stream",
     "text": [
      "3084\n"
     ]
    }
   ],
   "source": [
    "orders = []\n",
    "with open('dsgrndb/8_2_final.dat','r') as file:\n",
    "    line = file.readline()\n",
    "    while line:\n",
    "        temp  =  tuple(map(lambda x: int(x), line.strip().split(' ')))\n",
    "        orders.append(temp)\n",
    "        line = file.readline()\n",
    "print(len(orders))"
   ]
  },
  {
   "cell_type": "code",
   "execution_count": 24,
   "metadata": {},
   "outputs": [],
   "source": [
    "ret = []\n",
    "# flip last and reverse the order\n",
    "for i in range(len(orders)):\n",
    "    ret.append(flipLast(orders[i])[::-1])"
   ]
  },
  {
   "cell_type": "code",
   "execution_count": 25,
   "metadata": {},
   "outputs": [],
   "source": [
    "with open('ptmdb/8p_0n_2.dat','w') as file:\n",
    "    for i in range(len(ret)):\n",
    "        line = ' '.join(list(map(lambda x: str(x), ret[i])))+'\\n'\n",
    "        file.write(line)"
   ]
  },
  {
   "cell_type": "markdown",
   "metadata": {},
   "source": [
    "# Generate 4p2.txt"
   ]
  },
  {
   "cell_type": "code",
   "execution_count": 26,
   "metadata": {},
   "outputs": [
    {
     "name": "stdout",
     "output_type": "stream",
     "text": [
      "20\n"
     ]
    }
   ],
   "source": [
    "orders = []\n",
    "with open('dsgrndb//4_2_final.dat','r') as file:\n",
    "    line = file.readline()\n",
    "    while line:\n",
    "        temp  =  tuple(map(lambda x: int(x), line.strip().split(' ')))\n",
    "        orders.append(temp)\n",
    "        line = file.readline()\n",
    "print(len(orders))\n",
    "\n",
    "# flip the last and reverse the order\n",
    "ret = []\n",
    "for i in range(len(orders)):\n",
    "    ret.append(flipLast(orders[i])[::-1])"
   ]
  },
  {
   "cell_type": "code",
   "execution_count": 27,
   "metadata": {},
   "outputs": [],
   "source": [
    "ret = []\n",
    "for i in range(len(orders)):\n",
    "    ret.append(flipLast(orders[i])[::-1])"
   ]
  },
  {
   "cell_type": "code",
   "execution_count": 28,
   "metadata": {},
   "outputs": [],
   "source": [
    "with open('ptmdb/4p_0n_2.dat','w') as file:\n",
    "    for i in range(len(ret)):\n",
    "        line = ' '.join(list(map(lambda x: str(x), ret[i])))+'\\n'\n",
    "        file.write(line)"
   ]
  },
  {
   "cell_type": "markdown",
   "metadata": {},
   "source": [
    "# Generate 2p2_2.txt"
   ]
  },
  {
   "cell_type": "markdown",
   "metadata": {},
   "source": [
    "This is generating the same result as fliping the first previously"
   ]
  },
  {
   "cell_type": "code",
   "execution_count": 35,
   "metadata": {},
   "outputs": [
    {
     "name": "stdout",
     "output_type": "stream",
     "text": [
      "12\n"
     ]
    }
   ],
   "source": [
    "\n",
    "orders = []\n",
    "with open('dsgrndb//2_2_2_final.dat','r') as file:\n",
    "    line = file.readline()\n",
    "    while line:\n",
    "        temp  =  tuple(map(lambda x: int(x), line.strip().split(' ')))\n",
    "        orders.append(temp)\n",
    "        line = file.readline()\n",
    "print(len(orders))"
   ]
  },
  {
   "cell_type": "code",
   "execution_count": 36,
   "metadata": {},
   "outputs": [],
   "source": [
    "ret = []\n",
    "for i in range(len(orders)):\n",
    "    ret.append(flipLast(orders[i]))"
   ]
  },
  {
   "cell_type": "code",
   "execution_count": 37,
   "metadata": {},
   "outputs": [
    {
     "data": {
      "text/plain": [
       "[1, 0, 3, 2, 5, 4, 7, 6]"
      ]
     },
     "execution_count": 37,
     "metadata": {},
     "output_type": "execute_result"
    }
   ],
   "source": [
    "ret[0]"
   ]
  },
  {
   "cell_type": "code",
   "execution_count": 38,
   "metadata": {},
   "outputs": [],
   "source": [
    "def moveLastToFront(n):\n",
    "    n = bin(n)[2:].zfill(3)\n",
    "    n = n[-1] + n[1:-1] + n[0]\n",
    "    return int(n,2)"
   ]
  },
  {
   "cell_type": "code",
   "execution_count": 39,
   "metadata": {},
   "outputs": [],
   "source": [
    "for i in range(len(orders)):\n",
    "    ret[i] = list(map(lambda x: moveLastToFront(x), ret[i]))"
   ]
  },
  {
   "cell_type": "code",
   "execution_count": 40,
   "metadata": {},
   "outputs": [
    {
     "data": {
      "text/plain": [
       "[4, 0, 6, 2, 5, 1, 7, 3]"
      ]
     },
     "execution_count": 40,
     "metadata": {},
     "output_type": "execute_result"
    }
   ],
   "source": [
    "ret[0]"
   ]
  },
  {
   "cell_type": "code",
   "execution_count": 32,
   "metadata": {},
   "outputs": [],
   "source": [
    "with open('ptmdb/2p_0n_2_2.dat','w') as file:\n",
    "    for i in range(len(ret)):\n",
    "        line = ' '.join(list(map(lambda x: str(x), ret[i])))+'\\n'\n",
    "        file.write(line)"
   ]
  },
  {
   "cell_type": "code",
   "execution_count": 42,
   "metadata": {},
   "outputs": [],
   "source": [
    "ret = [tuple(x) for x in ret]"
   ]
  },
  {
   "cell_type": "code",
   "execution_count": 34,
   "metadata": {},
   "outputs": [],
   "source": [
    "orderolde = [(4, 5, 6, 7, 0, 1, 2, 3),\n",
    " (4, 5, 6, 0, 7, 1, 2, 3),\n",
    " (4, 5, 0, 6, 1, 7, 2, 3),\n",
    " (4, 5, 0, 1, 6, 7, 2, 3),\n",
    " (4, 6, 5, 7, 0, 2, 1, 3),\n",
    " (4, 6, 5, 0, 7, 2, 1, 3),\n",
    " (4, 6, 0, 5, 2, 7, 1, 3),\n",
    " (4, 6, 0, 2, 5, 7, 1, 3),\n",
    " (4, 0, 5, 6, 1, 2, 7, 3),\n",
    " (4, 0, 5, 1, 6, 2, 7, 3),\n",
    " (4, 0, 6, 5, 2, 1, 7, 3),\n",
    " (4, 0, 6, 2, 5, 1, 7, 3)]"
   ]
  },
  {
   "cell_type": "code",
   "execution_count": 43,
   "metadata": {},
   "outputs": [
    {
     "data": {
      "text/plain": [
       "True"
      ]
     },
     "execution_count": 43,
     "metadata": {},
     "output_type": "execute_result"
    }
   ],
   "source": [
    "set(orderolde) == set(ret)"
   ]
  },
  {
   "cell_type": "markdown",
   "metadata": {},
   "source": [
    "# With single negative edges"
   ]
  },
  {
   "cell_type": "markdown",
   "metadata": {},
   "source": [
    "# Generate 2n.txt"
   ]
  },
  {
   "cell_type": "markdown",
   "metadata": {},
   "source": [
    "we use - to represen the zero, then it will be"
   ]
  },
  {
   "cell_type": "code",
   "execution_count": 52,
   "metadata": {},
   "outputs": [],
   "source": [
    "ret =[['-',1,0],[1,'-',0],[1,0,'-']]\n",
    "with open('ptmdb/0p_2n_0.dat','w') as file:\n",
    "    for i in range(len(ret)):\n",
    "        line = ' '.join(list(map(lambda x: str(x), ret[i])))+'\\n'\n",
    "        file.write(line)"
   ]
  },
  {
   "cell_type": "markdown",
   "metadata": {},
   "source": [
    "# Generate 2n2.txt"
   ]
  },
  {
   "cell_type": "markdown",
   "metadata": {},
   "source": [
    "There are three cases the case [1,0,'-'] is the easiest as everything is negative, ['-',1,0] is the same as 2p_0n_2 with \n",
    "first split, the more complicated one the rest one, the positive part monly depend on the order or the regular term"
   ]
  },
  {
   "cell_type": "code",
   "execution_count": 56,
   "metadata": {},
   "outputs": [],
   "source": [
    "regularPart = []\n",
    "with open('dsgrndb/2_final.dat','r') as file:\n",
    "    line = file.readline()\n",
    "    while line:\n",
    "        temp = '['+','.join(line[:-1].split(' '))+']'\n",
    "        temp = eval(temp)\n",
    "        regularPart.append(temp)\n",
    "        line = file.readline()"
   ]
  },
  {
   "cell_type": "code",
   "execution_count": 91,
   "metadata": {},
   "outputs": [],
   "source": [
    "ret = []\n",
    "# all negative case\n",
    "ret.append([0,1,2,3,'-'])\n",
    "\n",
    "# all positive part\n",
    "\n",
    "ret1 = []\n",
    "with open('ptmdb/2p_0n_2.dat','r') as file:\n",
    "    line = file.readline()\n",
    "    while line:\n",
    "        temp = '['+','.join(line[:-1].split(' '))+']'\n",
    "        temp = eval(temp)\n",
    "        ret1.append(temp)\n",
    "        line = file.readline()\n",
    "\n",
    "temp1 = ret1\n",
    "\n",
    "for i in range(len(temp1)):\n",
    "    temp1[i] = ['-']+ list(temp1[i])\n",
    "    \n",
    "ret +=temp1\n",
    "\n",
    "# half negative half positive \n",
    "ret2 = []\n",
    "with open('dsgrndb/2_2_final.dat','r') as file:\n",
    "    line = file.readline()\n",
    "    while line:\n",
    "        temp = '['+','.join(line[:-1].split(' '))+']'\n",
    "        temp = eval(temp)\n",
    "        ret2.append(temp)\n",
    "        line = file.readline()\n",
    "  \n",
    "\n",
    "temp2 = []\n",
    "for i in range(len(ret2)):\n",
    "    temp  = ret2[i]\n",
    "    negative = [2,3]\n",
    "    positive = []\n",
    "    for j in range(len(temp)):\n",
    "        if temp[j] not in negative:\n",
    "            positive.append(temp[j])\n",
    "    temp = sorted(negative)+['-']+positive\n",
    "    temp2.append(temp)\n",
    "    \n",
    "ret+=temp2"
   ]
  },
  {
   "cell_type": "code",
   "execution_count": 92,
   "metadata": {},
   "outputs": [
    {
     "data": {
      "text/plain": [
       "(5, 4)"
      ]
     },
     "execution_count": 92,
     "metadata": {},
     "output_type": "execute_result"
    }
   ],
   "source": [
    "len(ret), len(set([tuple(x) for x in ret]))"
   ]
  },
  {
   "cell_type": "code",
   "execution_count": 93,
   "metadata": {},
   "outputs": [],
   "source": [
    "ret = list(set([tuple(x) for x in ret]))"
   ]
  },
  {
   "cell_type": "code",
   "execution_count": null,
   "metadata": {},
   "outputs": [],
   "source": [
    "with open('ptmdb/0p_2n_2.dat','w') as file:\n",
    "    for i in range(len(ret)):\n",
    "        line = ' '.join(list(map(lambda x: str(x), ret[i])))+'\\n'\n",
    "        file.write(line)"
   ]
  },
  {
   "cell_type": "code",
   "execution_count": 94,
   "metadata": {},
   "outputs": [
    {
     "data": {
      "text/plain": [
       "[(0, 1, 2, 3, '-'), ('-', 2, 0, 3, 1), ('-', 2, 3, 0, 1), (2, 3, '-', 0, 1)]"
      ]
     },
     "execution_count": 94,
     "metadata": {},
     "output_type": "execute_result"
    }
   ],
   "source": [
    "ret"
   ]
  },
  {
   "cell_type": "code",
   "execution_count": 89,
   "metadata": {},
   "outputs": [
    {
     "data": {
      "text/plain": [
       "[[2, 3, 0, 1], [2, 0, 3, 1]]"
      ]
     },
     "execution_count": 89,
     "metadata": {},
     "output_type": "execute_result"
    }
   ],
   "source": [
    "ret1"
   ]
  },
  {
   "cell_type": "code",
   "execution_count": 90,
   "metadata": {},
   "outputs": [
    {
     "data": {
      "text/plain": [
       "[['-', 0, 1, 2, 3], ['-', 0, 2, 1, 3]]"
      ]
     },
     "execution_count": 90,
     "metadata": {},
     "output_type": "execute_result"
    }
   ],
   "source": [
    "temp1"
   ]
  },
  {
   "cell_type": "code",
   "execution_count": null,
   "metadata": {},
   "outputs": [],
   "source": []
  }
 ],
 "metadata": {
  "kernelspec": {
   "display_name": "Python (tensorflow)",
   "language": "python",
   "name": "myenv"
  },
  "language_info": {
   "codemirror_mode": {
    "name": "ipython",
    "version": 3
   },
   "file_extension": ".py",
   "mimetype": "text/x-python",
   "name": "python",
   "nbconvert_exporter": "python",
   "pygments_lexer": "ipython3",
   "version": "3.6.7"
  }
 },
 "nbformat": 4,
 "nbformat_minor": 2
}
